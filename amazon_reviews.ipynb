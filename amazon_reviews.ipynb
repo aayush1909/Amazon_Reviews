{
 "cells": [
  {
   "cell_type": "code",
   "execution_count": 1,
   "metadata": {},
   "outputs": [],
   "source": [
    "#Importing packages\n",
    "import numpy as np\n",
    "import pandas as pd\n",
    "from random import sample\n",
    "from sklearn.feature_extraction.text import CountVectorizer\n",
    "from sklearn.feature_extraction.text import TfidfVectorizer\n",
    "from sklearn.feature_extraction.text import TfidfTransformer"
   ]
  },
  {
   "cell_type": "markdown",
   "metadata": {},
   "source": [
    "# 1. Explore and clean the data"
   ]
  },
  {
   "cell_type": "code",
   "execution_count": 2,
   "metadata": {},
   "outputs": [
    {
     "data": {
      "text/html": [
       "<div>\n",
       "<style scoped>\n",
       "    .dataframe tbody tr th:only-of-type {\n",
       "        vertical-align: middle;\n",
       "    }\n",
       "\n",
       "    .dataframe tbody tr th {\n",
       "        vertical-align: top;\n",
       "    }\n",
       "\n",
       "    .dataframe thead th {\n",
       "        text-align: right;\n",
       "    }\n",
       "</style>\n",
       "<table border=\"1\" class=\"dataframe\">\n",
       "  <thead>\n",
       "    <tr style=\"text-align: right;\">\n",
       "      <th></th>\n",
       "      <th>date</th>\n",
       "      <th>summary</th>\n",
       "      <th>review</th>\n",
       "      <th>rating</th>\n",
       "    </tr>\n",
       "  </thead>\n",
       "  <tbody>\n",
       "    <tr>\n",
       "      <th>0</th>\n",
       "      <td>2013-07-16</td>\n",
       "      <td>Awesine</td>\n",
       "      <td>Perfect for new parents. We were able to keep ...</td>\n",
       "      <td>5</td>\n",
       "    </tr>\n",
       "    <tr>\n",
       "      <th>1</th>\n",
       "      <td>2013-06-29</td>\n",
       "      <td>Should be required for all new parents!</td>\n",
       "      <td>This book is such a life saver.  It has been s...</td>\n",
       "      <td>5</td>\n",
       "    </tr>\n",
       "    <tr>\n",
       "      <th>2</th>\n",
       "      <td>2014-03-19</td>\n",
       "      <td>Grandmother watching baby</td>\n",
       "      <td>Helps me know exactly how my babies day has go...</td>\n",
       "      <td>5</td>\n",
       "    </tr>\n",
       "    <tr>\n",
       "      <th>3</th>\n",
       "      <td>2013-08-17</td>\n",
       "      <td>repeat buyer</td>\n",
       "      <td>I bought this a few times for my older son and...</td>\n",
       "      <td>5</td>\n",
       "    </tr>\n",
       "    <tr>\n",
       "      <th>4</th>\n",
       "      <td>2014-04-01</td>\n",
       "      <td>Great</td>\n",
       "      <td>I wanted an alternative to printing out daily ...</td>\n",
       "      <td>4</td>\n",
       "    </tr>\n",
       "    <tr>\n",
       "      <th>...</th>\n",
       "      <td>...</td>\n",
       "      <td>...</td>\n",
       "      <td>...</td>\n",
       "      <td>...</td>\n",
       "    </tr>\n",
       "    <tr>\n",
       "      <th>205326</th>\n",
       "      <td>2014-07-20</td>\n",
       "      <td>Five Stars</td>\n",
       "      <td>Great, just as expected.  Thank to all.</td>\n",
       "      <td>5</td>\n",
       "    </tr>\n",
       "    <tr>\n",
       "      <th>205327</th>\n",
       "      <td>2014-07-02</td>\n",
       "      <td>Long life, and for some players, a good econom...</td>\n",
       "      <td>I've been thinking about trying the Nanoweb st...</td>\n",
       "      <td>5</td>\n",
       "    </tr>\n",
       "    <tr>\n",
       "      <th>205328</th>\n",
       "      <td>2014-07-22</td>\n",
       "      <td>Good for coated.</td>\n",
       "      <td>I have tried coated strings in the past ( incl...</td>\n",
       "      <td>4</td>\n",
       "    </tr>\n",
       "    <tr>\n",
       "      <th>205329</th>\n",
       "      <td>2014-07-01</td>\n",
       "      <td>Taylor Made</td>\n",
       "      <td>Well, MADE by Elixir and DEVELOPED with Taylor...</td>\n",
       "      <td>4</td>\n",
       "    </tr>\n",
       "    <tr>\n",
       "      <th>205330</th>\n",
       "      <td>2014-07-16</td>\n",
       "      <td>These strings are really quite good, but I wou...</td>\n",
       "      <td>These strings are really quite good, but I wou...</td>\n",
       "      <td>4</td>\n",
       "    </tr>\n",
       "  </tbody>\n",
       "</table>\n",
       "<p>205331 rows × 4 columns</p>\n",
       "</div>"
      ],
      "text/plain": [
       "              date                                            summary  \\\n",
       "0       2013-07-16                                            Awesine   \n",
       "1       2013-06-29            Should be required for all new parents!   \n",
       "2       2014-03-19                          Grandmother watching baby   \n",
       "3       2013-08-17                                       repeat buyer   \n",
       "4       2014-04-01                                              Great   \n",
       "...            ...                                                ...   \n",
       "205326  2014-07-20                                         Five Stars   \n",
       "205327  2014-07-02  Long life, and for some players, a good econom...   \n",
       "205328  2014-07-22                                   Good for coated.   \n",
       "205329  2014-07-01                                        Taylor Made   \n",
       "205330  2014-07-16  These strings are really quite good, but I wou...   \n",
       "\n",
       "                                                   review  rating  \n",
       "0       Perfect for new parents. We were able to keep ...       5  \n",
       "1       This book is such a life saver.  It has been s...       5  \n",
       "2       Helps me know exactly how my babies day has go...       5  \n",
       "3       I bought this a few times for my older son and...       5  \n",
       "4       I wanted an alternative to printing out daily ...       4  \n",
       "...                                                   ...     ...  \n",
       "205326            Great, just as expected.  Thank to all.       5  \n",
       "205327  I've been thinking about trying the Nanoweb st...       5  \n",
       "205328  I have tried coated strings in the past ( incl...       4  \n",
       "205329  Well, MADE by Elixir and DEVELOPED with Taylor...       4  \n",
       "205330  These strings are really quite good, but I wou...       4  \n",
       "\n",
       "[205331 rows x 4 columns]"
      ]
     },
     "execution_count": 2,
     "metadata": {},
     "output_type": "execute_result"
    }
   ],
   "source": [
    "#Importing data\n",
    "data = pd.read_csv('amazon-reviews.csv.bz2', sep = '\\t')\n",
    "data"
   ]
  },
  {
   "cell_type": "code",
   "execution_count": 3,
   "metadata": {},
   "outputs": [
    {
     "data": {
      "text/plain": [
       "date        0\n",
       "summary    15\n",
       "review     80\n",
       "rating      0\n",
       "dtype: int64"
      ]
     },
     "execution_count": 3,
     "metadata": {},
     "output_type": "execute_result"
    }
   ],
   "source": [
    "#Checking for missing values\n",
    "data.isna().sum()"
   ]
  },
  {
   "cell_type": "code",
   "execution_count": 4,
   "metadata": {},
   "outputs": [],
   "source": [
    "#Dropping missing values\n",
    "data.dropna(inplace=True)"
   ]
  },
  {
   "cell_type": "code",
   "execution_count": 5,
   "metadata": {},
   "outputs": [],
   "source": [
    "#Taking a subset of the dataset\n",
    "np.random.seed(42)\n",
    "subset = data.sample(1000)"
   ]
  },
  {
   "cell_type": "code",
   "execution_count": 6,
   "metadata": {},
   "outputs": [
    {
     "data": {
      "text/html": [
       "<div>\n",
       "<style scoped>\n",
       "    .dataframe tbody tr th:only-of-type {\n",
       "        vertical-align: middle;\n",
       "    }\n",
       "\n",
       "    .dataframe tbody tr th {\n",
       "        vertical-align: top;\n",
       "    }\n",
       "\n",
       "    .dataframe thead th {\n",
       "        text-align: right;\n",
       "    }\n",
       "</style>\n",
       "<table border=\"1\" class=\"dataframe\">\n",
       "  <thead>\n",
       "    <tr style=\"text-align: right;\">\n",
       "      <th></th>\n",
       "      <th>date</th>\n",
       "      <th>summary</th>\n",
       "      <th>review</th>\n",
       "      <th>rating</th>\n",
       "    </tr>\n",
       "  </thead>\n",
       "  <tbody>\n",
       "    <tr>\n",
       "      <th>136391</th>\n",
       "      <td>2014-05-20</td>\n",
       "      <td>Strong</td>\n",
       "      <td>Strong and safe this car seat is still very co...</td>\n",
       "      <td>5</td>\n",
       "    </tr>\n",
       "    <tr>\n",
       "      <th>37818</th>\n",
       "      <td>2011-07-06</td>\n",
       "      <td>Very nice for the price</td>\n",
       "      <td>Got this chair today and it was very easy to p...</td>\n",
       "      <td>5</td>\n",
       "    </tr>\n",
       "    <tr>\n",
       "      <th>121138</th>\n",
       "      <td>2013-02-21</td>\n",
       "      <td>Love this bowl!</td>\n",
       "      <td>This bowl is awesome. It sticks right to the t...</td>\n",
       "      <td>5</td>\n",
       "    </tr>\n",
       "    <tr>\n",
       "      <th>171043</th>\n",
       "      <td>2014-04-21</td>\n",
       "      <td>Natural, long lasting, easy application - best...</td>\n",
       "      <td>After trying other bronzers from every known c...</td>\n",
       "      <td>5</td>\n",
       "    </tr>\n",
       "    <tr>\n",
       "      <th>100477</th>\n",
       "      <td>2014-05-12</td>\n",
       "      <td>Easy to use and looks great!</td>\n",
       "      <td>I love our new stroller and car seat it was ve...</td>\n",
       "      <td>5</td>\n",
       "    </tr>\n",
       "    <tr>\n",
       "      <th>...</th>\n",
       "      <td>...</td>\n",
       "      <td>...</td>\n",
       "      <td>...</td>\n",
       "      <td>...</td>\n",
       "    </tr>\n",
       "    <tr>\n",
       "      <th>143953</th>\n",
       "      <td>2013-04-17</td>\n",
       "      <td>Simple Sturdy</td>\n",
       "      <td>Does the job.  The ribbon is good quality (alm...</td>\n",
       "      <td>5</td>\n",
       "    </tr>\n",
       "    <tr>\n",
       "      <th>150372</th>\n",
       "      <td>2013-02-19</td>\n",
       "      <td>Cute for baby's room!</td>\n",
       "      <td>I was mainly just looking for a hamper that wo...</td>\n",
       "      <td>5</td>\n",
       "    </tr>\n",
       "    <tr>\n",
       "      <th>80406</th>\n",
       "      <td>2013-04-10</td>\n",
       "      <td>Does the job.  But also shrinks, fades.</td>\n",
       "      <td>We've been using this Planet Wise wetbag for o...</td>\n",
       "      <td>3</td>\n",
       "    </tr>\n",
       "    <tr>\n",
       "      <th>133628</th>\n",
       "      <td>2013-03-06</td>\n",
       "      <td>didn't work for me</td>\n",
       "      <td>Unfortunately, this did not work for me. I fol...</td>\n",
       "      <td>2</td>\n",
       "    </tr>\n",
       "    <tr>\n",
       "      <th>205189</th>\n",
       "      <td>2014-07-20</td>\n",
       "      <td>very nice</td>\n",
       "      <td>I needed an inexpensive music stand for my gui...</td>\n",
       "      <td>5</td>\n",
       "    </tr>\n",
       "  </tbody>\n",
       "</table>\n",
       "<p>1000 rows × 4 columns</p>\n",
       "</div>"
      ],
      "text/plain": [
       "              date                                            summary  \\\n",
       "136391  2014-05-20                                             Strong   \n",
       "37818   2011-07-06                            Very nice for the price   \n",
       "121138  2013-02-21                                    Love this bowl!   \n",
       "171043  2014-04-21  Natural, long lasting, easy application - best...   \n",
       "100477  2014-05-12                       Easy to use and looks great!   \n",
       "...            ...                                                ...   \n",
       "143953  2013-04-17                                      Simple Sturdy   \n",
       "150372  2013-02-19                              Cute for baby's room!   \n",
       "80406   2013-04-10            Does the job.  But also shrinks, fades.   \n",
       "133628  2013-03-06                                 didn't work for me   \n",
       "205189  2014-07-20                                          very nice   \n",
       "\n",
       "                                                   review  rating  \n",
       "136391  Strong and safe this car seat is still very co...       5  \n",
       "37818   Got this chair today and it was very easy to p...       5  \n",
       "121138  This bowl is awesome. It sticks right to the t...       5  \n",
       "171043  After trying other bronzers from every known c...       5  \n",
       "100477  I love our new stroller and car seat it was ve...       5  \n",
       "...                                                   ...     ...  \n",
       "143953  Does the job.  The ribbon is good quality (alm...       5  \n",
       "150372  I was mainly just looking for a hamper that wo...       5  \n",
       "80406   We've been using this Planet Wise wetbag for o...       3  \n",
       "133628  Unfortunately, this did not work for me. I fol...       2  \n",
       "205189  I needed an inexpensive music stand for my gui...       5  \n",
       "\n",
       "[1000 rows x 4 columns]"
      ]
     },
     "execution_count": 6,
     "metadata": {},
     "output_type": "execute_result"
    }
   ],
   "source": [
    "subset"
   ]
  },
  {
   "cell_type": "code",
   "execution_count": 7,
   "metadata": {},
   "outputs": [
    {
     "data": {
      "text/plain": [
       "'Strong and safe this car seat is still very comfortable and beatiful. Easy to be managed and to be adjusted.'"
      ]
     },
     "execution_count": 7,
     "metadata": {},
     "output_type": "execute_result"
    }
   ],
   "source": [
    "subset.loc[136391, 'review']"
   ]
  },
  {
   "cell_type": "code",
   "execution_count": 8,
   "metadata": {},
   "outputs": [
    {
     "data": {
      "text/plain": [
       "'I needed an inexpensive music stand for my guitar lessons. This worked well for that.'"
      ]
     },
     "execution_count": 8,
     "metadata": {},
     "output_type": "execute_result"
    }
   ],
   "source": [
    "subset.loc[205189, 'review']"
   ]
  },
  {
   "cell_type": "code",
   "execution_count": 9,
   "metadata": {},
   "outputs": [
    {
     "data": {
      "text/plain": [
       "'After trying other bronzers from every known cosmetic company, I have finally found THE one. I wanted a bronzer without glimmer, this is it. I wanted a bronzer that would look natural, this is it. I wanted a bronzer that would stay on all day, this is it. I wanted a natural color, this is it. I wanted a small case for traveling, this is it. Done and done, this us a must have for my cosmetic bag.'"
      ]
     },
     "execution_count": 9,
     "metadata": {},
     "output_type": "execute_result"
    }
   ],
   "source": [
    "subset.loc[171043, 'review']"
   ]
  },
  {
   "cell_type": "markdown",
   "metadata": {},
   "source": [
    "As we can see, these reviews can be categorized as `baby`, `musical instruments` and `beauty` respectively."
   ]
  },
  {
   "cell_type": "markdown",
   "metadata": {},
   "source": [
    "# 2. Implement TF-IDF transform"
   ]
  },
  {
   "cell_type": "markdown",
   "metadata": {},
   "source": [
    "### TF = (Number of time the word occurs in the text) / (Total number of words in text) "
   ]
  },
  {
   "cell_type": "markdown",
   "metadata": {},
   "source": [
    "### IDF = (Total number of documents / Number of documents with word t in it)"
   ]
  },
  {
   "cell_type": "markdown",
   "metadata": {},
   "source": [
    "### Source: https://iyzico.engineering/how-to-calculate-tf-idf-term-frequency-inverse-document-frequency-from-the-beatles-biography-in-c4c3cd968296"
   ]
  },
  {
   "cell_type": "code",
   "execution_count": 10,
   "metadata": {},
   "outputs": [],
   "source": [
    "#Implementing bag of words\n",
    "vectorizer = CountVectorizer(binary=False)\n",
    "X = vectorizer.fit_transform(subset.review.values).toarray()\n",
    "words = vectorizer.get_feature_names()"
   ]
  },
  {
   "cell_type": "code",
   "execution_count": 11,
   "metadata": {},
   "outputs": [],
   "source": [
    "X = pd.DataFrame(X)\n",
    "X.columns = words"
   ]
  },
  {
   "cell_type": "code",
   "execution_count": 12,
   "metadata": {},
   "outputs": [
    {
     "data": {
      "text/plain": [
       "(1000, 7051)"
      ]
     },
     "execution_count": 12,
     "metadata": {},
     "output_type": "execute_result"
    }
   ],
   "source": [
    "#Looking at the dimensions of bag of words\n",
    "X.shape"
   ]
  },
  {
   "cell_type": "code",
   "execution_count": 13,
   "metadata": {},
   "outputs": [],
   "source": [
    "#Calculating term frequency\n",
    "cols = X.columns\n",
    "tf = X[cols].div(X[cols].sum(axis=1), axis=0)"
   ]
  },
  {
   "cell_type": "code",
   "execution_count": 14,
   "metadata": {},
   "outputs": [],
   "source": [
    "#Calculating inverse document frequency\n",
    "temp = pd.DataFrame(np.where(X > 0, 1, 0))\n",
    "temp.columns = words\n",
    "idf = np.log(temp.sum(axis = 0))"
   ]
  },
  {
   "cell_type": "code",
   "execution_count": 15,
   "metadata": {},
   "outputs": [],
   "source": [
    "#Multiplying tf and idf to get tf-idf\n",
    "test = tf.multiply(idf, axis='columns')"
   ]
  },
  {
   "cell_type": "code",
   "execution_count": 16,
   "metadata": {},
   "outputs": [
    {
     "data": {
      "text/html": [
       "<div>\n",
       "<style scoped>\n",
       "    .dataframe tbody tr th:only-of-type {\n",
       "        vertical-align: middle;\n",
       "    }\n",
       "\n",
       "    .dataframe tbody tr th {\n",
       "        vertical-align: top;\n",
       "    }\n",
       "\n",
       "    .dataframe thead th {\n",
       "        text-align: right;\n",
       "    }\n",
       "</style>\n",
       "<table border=\"1\" class=\"dataframe\">\n",
       "  <thead>\n",
       "    <tr style=\"text-align: right;\">\n",
       "      <th></th>\n",
       "      <th>00</th>\n",
       "      <th>02</th>\n",
       "      <th>09</th>\n",
       "      <th>0px</th>\n",
       "      <th>10</th>\n",
       "      <th>100</th>\n",
       "      <th>1000</th>\n",
       "      <th>100th</th>\n",
       "      <th>10s</th>\n",
       "      <th>11</th>\n",
       "      <th>...</th>\n",
       "      <th>ziplock</th>\n",
       "      <th>zipped</th>\n",
       "      <th>zipper</th>\n",
       "      <th>zippers</th>\n",
       "      <th>zips</th>\n",
       "      <th>zones</th>\n",
       "      <th>zoo</th>\n",
       "      <th>zoom</th>\n",
       "      <th>zooms</th>\n",
       "      <th>zoya</th>\n",
       "    </tr>\n",
       "  </thead>\n",
       "  <tbody>\n",
       "    <tr>\n",
       "      <th>0</th>\n",
       "      <td>0.0</td>\n",
       "      <td>0.0</td>\n",
       "      <td>0.0</td>\n",
       "      <td>0.0</td>\n",
       "      <td>0.0</td>\n",
       "      <td>0.0</td>\n",
       "      <td>0.0</td>\n",
       "      <td>0.0</td>\n",
       "      <td>0.0</td>\n",
       "      <td>0.0</td>\n",
       "      <td>...</td>\n",
       "      <td>0.0</td>\n",
       "      <td>0.0</td>\n",
       "      <td>0.0</td>\n",
       "      <td>0.0</td>\n",
       "      <td>0.0</td>\n",
       "      <td>0.0</td>\n",
       "      <td>0.0</td>\n",
       "      <td>0.0</td>\n",
       "      <td>0.0</td>\n",
       "      <td>0.0</td>\n",
       "    </tr>\n",
       "    <tr>\n",
       "      <th>1</th>\n",
       "      <td>0.0</td>\n",
       "      <td>0.0</td>\n",
       "      <td>0.0</td>\n",
       "      <td>0.0</td>\n",
       "      <td>0.0</td>\n",
       "      <td>0.0</td>\n",
       "      <td>0.0</td>\n",
       "      <td>0.0</td>\n",
       "      <td>0.0</td>\n",
       "      <td>0.0</td>\n",
       "      <td>...</td>\n",
       "      <td>0.0</td>\n",
       "      <td>0.0</td>\n",
       "      <td>0.0</td>\n",
       "      <td>0.0</td>\n",
       "      <td>0.0</td>\n",
       "      <td>0.0</td>\n",
       "      <td>0.0</td>\n",
       "      <td>0.0</td>\n",
       "      <td>0.0</td>\n",
       "      <td>0.0</td>\n",
       "    </tr>\n",
       "    <tr>\n",
       "      <th>2</th>\n",
       "      <td>0.0</td>\n",
       "      <td>0.0</td>\n",
       "      <td>0.0</td>\n",
       "      <td>0.0</td>\n",
       "      <td>0.0</td>\n",
       "      <td>0.0</td>\n",
       "      <td>0.0</td>\n",
       "      <td>0.0</td>\n",
       "      <td>0.0</td>\n",
       "      <td>0.0</td>\n",
       "      <td>...</td>\n",
       "      <td>0.0</td>\n",
       "      <td>0.0</td>\n",
       "      <td>0.0</td>\n",
       "      <td>0.0</td>\n",
       "      <td>0.0</td>\n",
       "      <td>0.0</td>\n",
       "      <td>0.0</td>\n",
       "      <td>0.0</td>\n",
       "      <td>0.0</td>\n",
       "      <td>0.0</td>\n",
       "    </tr>\n",
       "    <tr>\n",
       "      <th>3</th>\n",
       "      <td>0.0</td>\n",
       "      <td>0.0</td>\n",
       "      <td>0.0</td>\n",
       "      <td>0.0</td>\n",
       "      <td>0.0</td>\n",
       "      <td>0.0</td>\n",
       "      <td>0.0</td>\n",
       "      <td>0.0</td>\n",
       "      <td>0.0</td>\n",
       "      <td>0.0</td>\n",
       "      <td>...</td>\n",
       "      <td>0.0</td>\n",
       "      <td>0.0</td>\n",
       "      <td>0.0</td>\n",
       "      <td>0.0</td>\n",
       "      <td>0.0</td>\n",
       "      <td>0.0</td>\n",
       "      <td>0.0</td>\n",
       "      <td>0.0</td>\n",
       "      <td>0.0</td>\n",
       "      <td>0.0</td>\n",
       "    </tr>\n",
       "    <tr>\n",
       "      <th>4</th>\n",
       "      <td>0.0</td>\n",
       "      <td>0.0</td>\n",
       "      <td>0.0</td>\n",
       "      <td>0.0</td>\n",
       "      <td>0.0</td>\n",
       "      <td>0.0</td>\n",
       "      <td>0.0</td>\n",
       "      <td>0.0</td>\n",
       "      <td>0.0</td>\n",
       "      <td>0.0</td>\n",
       "      <td>...</td>\n",
       "      <td>0.0</td>\n",
       "      <td>0.0</td>\n",
       "      <td>0.0</td>\n",
       "      <td>0.0</td>\n",
       "      <td>0.0</td>\n",
       "      <td>0.0</td>\n",
       "      <td>0.0</td>\n",
       "      <td>0.0</td>\n",
       "      <td>0.0</td>\n",
       "      <td>0.0</td>\n",
       "    </tr>\n",
       "    <tr>\n",
       "      <th>...</th>\n",
       "      <td>...</td>\n",
       "      <td>...</td>\n",
       "      <td>...</td>\n",
       "      <td>...</td>\n",
       "      <td>...</td>\n",
       "      <td>...</td>\n",
       "      <td>...</td>\n",
       "      <td>...</td>\n",
       "      <td>...</td>\n",
       "      <td>...</td>\n",
       "      <td>...</td>\n",
       "      <td>...</td>\n",
       "      <td>...</td>\n",
       "      <td>...</td>\n",
       "      <td>...</td>\n",
       "      <td>...</td>\n",
       "      <td>...</td>\n",
       "      <td>...</td>\n",
       "      <td>...</td>\n",
       "      <td>...</td>\n",
       "      <td>...</td>\n",
       "    </tr>\n",
       "    <tr>\n",
       "      <th>995</th>\n",
       "      <td>0.0</td>\n",
       "      <td>0.0</td>\n",
       "      <td>0.0</td>\n",
       "      <td>0.0</td>\n",
       "      <td>0.0</td>\n",
       "      <td>0.0</td>\n",
       "      <td>0.0</td>\n",
       "      <td>0.0</td>\n",
       "      <td>0.0</td>\n",
       "      <td>0.0</td>\n",
       "      <td>...</td>\n",
       "      <td>0.0</td>\n",
       "      <td>0.0</td>\n",
       "      <td>0.0</td>\n",
       "      <td>0.0</td>\n",
       "      <td>0.0</td>\n",
       "      <td>0.0</td>\n",
       "      <td>0.0</td>\n",
       "      <td>0.0</td>\n",
       "      <td>0.0</td>\n",
       "      <td>0.0</td>\n",
       "    </tr>\n",
       "    <tr>\n",
       "      <th>996</th>\n",
       "      <td>0.0</td>\n",
       "      <td>0.0</td>\n",
       "      <td>0.0</td>\n",
       "      <td>0.0</td>\n",
       "      <td>0.0</td>\n",
       "      <td>0.0</td>\n",
       "      <td>0.0</td>\n",
       "      <td>0.0</td>\n",
       "      <td>0.0</td>\n",
       "      <td>0.0</td>\n",
       "      <td>...</td>\n",
       "      <td>0.0</td>\n",
       "      <td>0.0</td>\n",
       "      <td>0.0</td>\n",
       "      <td>0.0</td>\n",
       "      <td>0.0</td>\n",
       "      <td>0.0</td>\n",
       "      <td>0.0</td>\n",
       "      <td>0.0</td>\n",
       "      <td>0.0</td>\n",
       "      <td>0.0</td>\n",
       "    </tr>\n",
       "    <tr>\n",
       "      <th>997</th>\n",
       "      <td>0.0</td>\n",
       "      <td>0.0</td>\n",
       "      <td>0.0</td>\n",
       "      <td>0.0</td>\n",
       "      <td>0.0</td>\n",
       "      <td>0.0</td>\n",
       "      <td>0.0</td>\n",
       "      <td>0.0</td>\n",
       "      <td>0.0</td>\n",
       "      <td>0.0</td>\n",
       "      <td>...</td>\n",
       "      <td>0.0</td>\n",
       "      <td>0.0</td>\n",
       "      <td>0.0</td>\n",
       "      <td>0.0</td>\n",
       "      <td>0.0</td>\n",
       "      <td>0.0</td>\n",
       "      <td>0.0</td>\n",
       "      <td>0.0</td>\n",
       "      <td>0.0</td>\n",
       "      <td>0.0</td>\n",
       "    </tr>\n",
       "    <tr>\n",
       "      <th>998</th>\n",
       "      <td>0.0</td>\n",
       "      <td>0.0</td>\n",
       "      <td>0.0</td>\n",
       "      <td>0.0</td>\n",
       "      <td>0.0</td>\n",
       "      <td>0.0</td>\n",
       "      <td>0.0</td>\n",
       "      <td>0.0</td>\n",
       "      <td>0.0</td>\n",
       "      <td>0.0</td>\n",
       "      <td>...</td>\n",
       "      <td>0.0</td>\n",
       "      <td>0.0</td>\n",
       "      <td>0.0</td>\n",
       "      <td>0.0</td>\n",
       "      <td>0.0</td>\n",
       "      <td>0.0</td>\n",
       "      <td>0.0</td>\n",
       "      <td>0.0</td>\n",
       "      <td>0.0</td>\n",
       "      <td>0.0</td>\n",
       "    </tr>\n",
       "    <tr>\n",
       "      <th>999</th>\n",
       "      <td>0.0</td>\n",
       "      <td>0.0</td>\n",
       "      <td>0.0</td>\n",
       "      <td>0.0</td>\n",
       "      <td>0.0</td>\n",
       "      <td>0.0</td>\n",
       "      <td>0.0</td>\n",
       "      <td>0.0</td>\n",
       "      <td>0.0</td>\n",
       "      <td>0.0</td>\n",
       "      <td>...</td>\n",
       "      <td>0.0</td>\n",
       "      <td>0.0</td>\n",
       "      <td>0.0</td>\n",
       "      <td>0.0</td>\n",
       "      <td>0.0</td>\n",
       "      <td>0.0</td>\n",
       "      <td>0.0</td>\n",
       "      <td>0.0</td>\n",
       "      <td>0.0</td>\n",
       "      <td>0.0</td>\n",
       "    </tr>\n",
       "  </tbody>\n",
       "</table>\n",
       "<p>1000 rows × 7051 columns</p>\n",
       "</div>"
      ],
      "text/plain": [
       "      00   02   09  0px   10  100  1000  100th  10s   11  ...  ziplock  \\\n",
       "0    0.0  0.0  0.0  0.0  0.0  0.0   0.0    0.0  0.0  0.0  ...      0.0   \n",
       "1    0.0  0.0  0.0  0.0  0.0  0.0   0.0    0.0  0.0  0.0  ...      0.0   \n",
       "2    0.0  0.0  0.0  0.0  0.0  0.0   0.0    0.0  0.0  0.0  ...      0.0   \n",
       "3    0.0  0.0  0.0  0.0  0.0  0.0   0.0    0.0  0.0  0.0  ...      0.0   \n",
       "4    0.0  0.0  0.0  0.0  0.0  0.0   0.0    0.0  0.0  0.0  ...      0.0   \n",
       "..   ...  ...  ...  ...  ...  ...   ...    ...  ...  ...  ...      ...   \n",
       "995  0.0  0.0  0.0  0.0  0.0  0.0   0.0    0.0  0.0  0.0  ...      0.0   \n",
       "996  0.0  0.0  0.0  0.0  0.0  0.0   0.0    0.0  0.0  0.0  ...      0.0   \n",
       "997  0.0  0.0  0.0  0.0  0.0  0.0   0.0    0.0  0.0  0.0  ...      0.0   \n",
       "998  0.0  0.0  0.0  0.0  0.0  0.0   0.0    0.0  0.0  0.0  ...      0.0   \n",
       "999  0.0  0.0  0.0  0.0  0.0  0.0   0.0    0.0  0.0  0.0  ...      0.0   \n",
       "\n",
       "     zipped  zipper  zippers  zips  zones  zoo  zoom  zooms  zoya  \n",
       "0       0.0     0.0      0.0   0.0    0.0  0.0   0.0    0.0   0.0  \n",
       "1       0.0     0.0      0.0   0.0    0.0  0.0   0.0    0.0   0.0  \n",
       "2       0.0     0.0      0.0   0.0    0.0  0.0   0.0    0.0   0.0  \n",
       "3       0.0     0.0      0.0   0.0    0.0  0.0   0.0    0.0   0.0  \n",
       "4       0.0     0.0      0.0   0.0    0.0  0.0   0.0    0.0   0.0  \n",
       "..      ...     ...      ...   ...    ...  ...   ...    ...   ...  \n",
       "995     0.0     0.0      0.0   0.0    0.0  0.0   0.0    0.0   0.0  \n",
       "996     0.0     0.0      0.0   0.0    0.0  0.0   0.0    0.0   0.0  \n",
       "997     0.0     0.0      0.0   0.0    0.0  0.0   0.0    0.0   0.0  \n",
       "998     0.0     0.0      0.0   0.0    0.0  0.0   0.0    0.0   0.0  \n",
       "999     0.0     0.0      0.0   0.0    0.0  0.0   0.0    0.0   0.0  \n",
       "\n",
       "[1000 rows x 7051 columns]"
      ]
     },
     "execution_count": 16,
     "metadata": {},
     "output_type": "execute_result"
    }
   ],
   "source": [
    "test"
   ]
  },
  {
   "cell_type": "markdown",
   "metadata": {},
   "source": [
    "# 3. Implementing k-Means Clustering"
   ]
  },
  {
   "cell_type": "code",
   "execution_count": 17,
   "metadata": {},
   "outputs": [],
   "source": [
    "#K-means clustering function\n",
    "def km(k, tf_idf): \n",
    "    #Setting random seed for reproducibility\n",
    "    np.random.seed(42)\n",
    "    #Setting k random cluster centres\n",
    "    centres = tf_idf.sample(n=k)\n",
    "    #Creating a list of indexes of cluster centres\n",
    "    centre_ind = centres.index.tolist()\n",
    "    #Centroids for the first iteration\n",
    "    centroids = []\n",
    "    for i in range(len(centre_ind)):\n",
    "        cluster = []\n",
    "        cluster.append(centre_ind[i])\n",
    "        centroids.append(tf_idf.iloc[cluster].mean(axis=0).tolist())\n",
    "    #Creating a dataframe of these centroids \n",
    "    centroid_df = pd.DataFrame(centroids)\n",
    "    #Calculating the cos similarities between all reviews and cluster centroids\n",
    "    cos = []\n",
    "    for i in range(k): # Iterating over each cluster\n",
    "        cos_in = []\n",
    "        for j in range(tf_idf.shape[0]): #Iterating over every review\n",
    "            dot = np.dot(tf_idf.iloc[j],centroid_df.iloc[i]) #Calculating dot product between review and centroid\n",
    "            anorm = np.linalg.norm(tf_idf.iloc[j]) #Calculating norm of review\n",
    "            bnorm = np.linalg.norm(centroid_df.iloc[i]) #Calculating norm of centroid\n",
    "            cos_sim = dot / (anorm * bnorm) #Cosine similarity between review and centroid\n",
    "            cos_in.append(cos_sim)\n",
    "        cos.append(cos_in)\n",
    "    cos_df = (pd.DataFrame(cos)).transpose()\n",
    "    \n",
    "    #Assigning review to cluster which has the least cosine similarity value\n",
    "    cos_df['cluster'] = cos_df.idxmin(axis=1)+1\n",
    "    cos_df.head()\n",
    "    \n",
    "    listclust = cos_df.cluster.unique()\n",
    "    \n",
    "    # Further iterations of k-means clustering\n",
    "\n",
    "    # Initializing a dataframe to hold new centroids\n",
    "    newcentroid_df = centroid_df.copy()\n",
    "\n",
    "    # Initializing an empty dataframe to store older centroids\n",
    "    prevcentroid_df = pd.DataFrame(columns=centroid_df.columns)\n",
    "    prevcentroid_df = prevcentroid_df.fillna(0)\n",
    "\n",
    "    # Intializing a dataframe for holding new cosine similarity values for all rows and cluster centres\n",
    "    newcos_df = cos_df.copy()\n",
    "    \n",
    "    # Counter for number of iterations\n",
    "    iteration_no = 2\n",
    "    \n",
    "    # Continuing to iterate till previous centroids match new centroids and number of iterations is less than 30\n",
    "    while ((prevcentroid_df.equals(newcentroid_df) == False) & (iteration_no < 35)):\n",
    "        prevcentroid_df = newcentroid_df.copy()  # centroids from previous iteration\n",
    "        newcentroidlist = []\n",
    "        for i in range(len(listclust)):\n",
    "            sublist = newcos_df[newcos_df.cluster == listclust[i]].index.tolist()\n",
    "            newcentroidlist.append(sublist)\n",
    "        newcentroids = []\n",
    "        # Computing new centroids for each cluster by averaging the tf_idf columns\n",
    "        for cluster in newcentroidlist:\n",
    "            centroid_list = tf_idf.iloc[cluster].mean(axis=0).tolist()\n",
    "            newcentroids.append(centroid_list)\n",
    "        # New Centroids\n",
    "        newcentroid_df = pd.DataFrame(newcentroids) # centroids from current iteration\n",
    "        newcos = []\n",
    "        # Calculating the cos similarities between all reviews and cluster centroids\n",
    "        for i in range(k):\n",
    "            cos_in = []\n",
    "            for j in range(tf_idf.shape[0]):\n",
    "                dot = np.dot(tf_idf.iloc[j],newcentroid_df.iloc[i])\n",
    "                anorm = np.linalg.norm(tf_idf.iloc[j])\n",
    "                bnorm = np.linalg.norm(newcentroid_df.iloc[i])\n",
    "                cos_sim = dot / (anorm * bnorm)\n",
    "                cos_in.append(cos_sim)\n",
    "            newcos.append(cos_in)\n",
    "        newcos_df = (pd.DataFrame(newcos)).transpose()\n",
    "        newcos_df['cluster'] = newcos_df.idxmin(axis=1)+1\n",
    "        iteration_no = iteration_no + 1\n",
    "    return newcos_df"
   ]
  },
  {
   "cell_type": "code",
   "execution_count": 18,
   "metadata": {},
   "outputs": [],
   "source": [
    "#Finding clusters for k = 3\n",
    "final = km(3,test)"
   ]
  },
  {
   "cell_type": "code",
   "execution_count": 19,
   "metadata": {},
   "outputs": [
    {
     "data": {
      "text/plain": [
       "3    657\n",
       "2    236\n",
       "1    107\n",
       "Name: cluster, dtype: int64"
      ]
     },
     "execution_count": 19,
     "metadata": {},
     "output_type": "execute_result"
    }
   ],
   "source": [
    "#Looking at each cluster size\n",
    "final.cluster.value_counts()"
   ]
  },
  {
   "cell_type": "code",
   "execution_count": 20,
   "metadata": {},
   "outputs": [
    {
     "data": {
      "text/plain": [
       "[1, 3, 2]"
      ]
     },
     "execution_count": 20,
     "metadata": {},
     "output_type": "execute_result"
    }
   ],
   "source": [
    "listclust = final.cluster.unique().tolist()\n",
    "listclust"
   ]
  },
  {
   "cell_type": "code",
   "execution_count": 21,
   "metadata": {},
   "outputs": [],
   "source": [
    "finalclusters = []\n",
    "for i in range(len(listclust)):\n",
    "    sublist = final[final.cluster == listclust[i]].index.tolist()\n",
    "    finalclusters.append(sublist)"
   ]
  },
  {
   "cell_type": "markdown",
   "metadata": {},
   "source": [
    "It looks like the algorithm is looking at words used in the reviews to classify them into clusters. For example, the review \"I really like this makeup. It blends in well, it's nice and airy, not heavy or greasy. This color compliments my summer skin tone nicely, a light tan with neutral undertones. I can wear this and be confident that I already have sunscreen protection during the day. It is matte, but I can add shimmer powder or blush on top if I want. I like the coverage and the tint, so I would order more.\" has been classified correctly in newcluster3 along with other makeup reviews. \n",
    "\n",
    "Similar reviews are clustered based on the cosine similarity which is how similar two reviews are in terms of word count of \"key\" words. For instance, \"Good polish\" and \"Go to polish\" are both classified as reviews from the beauty section. This is probably because both reviews have the word \"polish\". "
   ]
  },
  {
   "cell_type": "code",
   "execution_count": 22,
   "metadata": {},
   "outputs": [
    {
     "data": {
      "text/html": [
       "<div>\n",
       "<style scoped>\n",
       "    .dataframe tbody tr th:only-of-type {\n",
       "        vertical-align: middle;\n",
       "    }\n",
       "\n",
       "    .dataframe tbody tr th {\n",
       "        vertical-align: top;\n",
       "    }\n",
       "\n",
       "    .dataframe thead th {\n",
       "        text-align: right;\n",
       "    }\n",
       "</style>\n",
       "<table border=\"1\" class=\"dataframe\">\n",
       "  <thead>\n",
       "    <tr style=\"text-align: right;\">\n",
       "      <th></th>\n",
       "      <th>index</th>\n",
       "      <th>date</th>\n",
       "      <th>summary</th>\n",
       "      <th>review</th>\n",
       "      <th>rating</th>\n",
       "    </tr>\n",
       "  </thead>\n",
       "  <tbody>\n",
       "    <tr>\n",
       "      <th>0</th>\n",
       "      <td>136391</td>\n",
       "      <td>2014-05-20</td>\n",
       "      <td>Strong</td>\n",
       "      <td>Strong and safe this car seat is still very co...</td>\n",
       "      <td>5</td>\n",
       "    </tr>\n",
       "    <tr>\n",
       "      <th>1</th>\n",
       "      <td>37818</td>\n",
       "      <td>2011-07-06</td>\n",
       "      <td>Very nice for the price</td>\n",
       "      <td>Got this chair today and it was very easy to p...</td>\n",
       "      <td>5</td>\n",
       "    </tr>\n",
       "    <tr>\n",
       "      <th>2</th>\n",
       "      <td>121138</td>\n",
       "      <td>2013-02-21</td>\n",
       "      <td>Love this bowl!</td>\n",
       "      <td>This bowl is awesome. It sticks right to the t...</td>\n",
       "      <td>5</td>\n",
       "    </tr>\n",
       "    <tr>\n",
       "      <th>3</th>\n",
       "      <td>171043</td>\n",
       "      <td>2014-04-21</td>\n",
       "      <td>Natural, long lasting, easy application - best...</td>\n",
       "      <td>After trying other bronzers from every known c...</td>\n",
       "      <td>5</td>\n",
       "    </tr>\n",
       "    <tr>\n",
       "      <th>4</th>\n",
       "      <td>100477</td>\n",
       "      <td>2014-05-12</td>\n",
       "      <td>Easy to use and looks great!</td>\n",
       "      <td>I love our new stroller and car seat it was ve...</td>\n",
       "      <td>5</td>\n",
       "    </tr>\n",
       "  </tbody>\n",
       "</table>\n",
       "</div>"
      ],
      "text/plain": [
       "    index        date                                            summary  \\\n",
       "0  136391  2014-05-20                                             Strong   \n",
       "1   37818  2011-07-06                            Very nice for the price   \n",
       "2  121138  2013-02-21                                    Love this bowl!   \n",
       "3  171043  2014-04-21  Natural, long lasting, easy application - best...   \n",
       "4  100477  2014-05-12                       Easy to use and looks great!   \n",
       "\n",
       "                                              review  rating  \n",
       "0  Strong and safe this car seat is still very co...       5  \n",
       "1  Got this chair today and it was very easy to p...       5  \n",
       "2  This bowl is awesome. It sticks right to the t...       5  \n",
       "3  After trying other bronzers from every known c...       5  \n",
       "4  I love our new stroller and car seat it was ve...       5  "
      ]
     },
     "execution_count": 22,
     "metadata": {},
     "output_type": "execute_result"
    }
   ],
   "source": [
    "# Resetting index of 1000 observation sample\n",
    "reset_sample = subset.reset_index()\n",
    "reset_sample.head()"
   ]
  },
  {
   "cell_type": "code",
   "execution_count": 23,
   "metadata": {},
   "outputs": [
    {
     "data": {
      "text/plain": [
       "0      Strong and safe this car seat is still very co...\n",
       "15     This was a life saver!  My daughter had lost 1...\n",
       "21     I don't think this was any better than dish so...\n",
       "53     I would not suggest this until babies get olde...\n",
       "70     I purchased this as a gift for my high mainten...\n",
       "                             ...                        \n",
       "979    meh....... Sorry for my bad reviews on any oth...\n",
       "980    Love these sheets! Not only are they a great p...\n",
       "982                       gorgeous - perfect coral color\n",
       "994    I got this system to replace my internet-based...\n",
       "999    I needed an inexpensive music stand for my gui...\n",
       "Name: review, Length: 107, dtype: object"
      ]
     },
     "execution_count": 23,
     "metadata": {},
     "output_type": "execute_result"
    }
   ],
   "source": [
    "reset_sample['review'].iloc[finalclusters[0]]"
   ]
  },
  {
   "cell_type": "code",
   "execution_count": 24,
   "metadata": {},
   "outputs": [
    {
     "data": {
      "text/plain": [
       "1      Got this chair today and it was very easy to p...\n",
       "4      I love our new stroller and car seat it was ve...\n",
       "5      I have tried different brands and weights of s...\n",
       "7      The Playtex Diaper Genie Elite is actually jus...\n",
       "8      i did something silly, i thought this was supp...\n",
       "                             ...                        \n",
       "993    There are a lot of positives to these snack cu...\n",
       "995    Does the job.  The ribbon is good quality (alm...\n",
       "996    I was mainly just looking for a hamper that wo...\n",
       "997    We've been using this Planet Wise wetbag for o...\n",
       "998    Unfortunately, this did not work for me. I fol...\n",
       "Name: review, Length: 657, dtype: object"
      ]
     },
     "execution_count": 24,
     "metadata": {},
     "output_type": "execute_result"
    }
   ],
   "source": [
    "reset_sample['review'].iloc[finalclusters[1]]"
   ]
  },
  {
   "cell_type": "code",
   "execution_count": 25,
   "metadata": {},
   "outputs": [
    {
     "data": {
      "text/plain": [
       "2      This bowl is awesome. It sticks right to the t...\n",
       "3      After trying other bronzers from every known c...\n",
       "6      This eyeliner is great, a very nice dark navy....\n",
       "16     This is a delightful scent that adds just a da...\n",
       "17     My wife says this is easy and comfortable to u...\n",
       "                             ...                        \n",
       "971    This definitely does not work as described.  I...\n",
       "975    Wish you could use it without music.  My littl...\n",
       "984    I've tried a few carriers and my 2 month old w...\n",
       "986    This is a great product that will ensure that ...\n",
       "989    This is my sons favorite toy and mine. It's be...\n",
       "Name: review, Length: 236, dtype: object"
      ]
     },
     "execution_count": 25,
     "metadata": {},
     "output_type": "execute_result"
    }
   ],
   "source": [
    "reset_sample['review'].iloc[finalclusters[2]]"
   ]
  },
  {
   "cell_type": "code",
   "execution_count": 26,
   "metadata": {},
   "outputs": [
    {
     "data": {
      "text/plain": [
       "3    999\n",
       "1      1\n",
       "Name: cluster, dtype: int64"
      ]
     },
     "execution_count": 26,
     "metadata": {},
     "output_type": "execute_result"
    }
   ],
   "source": [
    "final4 = km(4,test)\n",
    "final4.cluster.value_counts()"
   ]
  },
  {
   "cell_type": "code",
   "execution_count": 27,
   "metadata": {},
   "outputs": [],
   "source": [
    "listclust4 = final4.cluster.unique().tolist()"
   ]
  },
  {
   "cell_type": "code",
   "execution_count": 28,
   "metadata": {},
   "outputs": [],
   "source": [
    "finalclusters = []\n",
    "for i in range(len(listclust4)):\n",
    "    sublist = final4[final4.cluster == listclust4[i]].index.tolist()\n",
    "    finalclusters.append(sublist)"
   ]
  },
  {
   "cell_type": "code",
   "execution_count": 29,
   "metadata": {},
   "outputs": [
    {
     "data": {
      "text/plain": [
       "5    678\n",
       "3    314\n",
       "1      4\n",
       "4      2\n",
       "2      2\n",
       "Name: cluster, dtype: int64"
      ]
     },
     "execution_count": 29,
     "metadata": {},
     "output_type": "execute_result"
    }
   ],
   "source": [
    "final5 = km(5,test)\n",
    "final5.cluster.value_counts()"
   ]
  },
  {
   "cell_type": "code",
   "execution_count": 30,
   "metadata": {},
   "outputs": [
    {
     "data": {
      "text/plain": [
       "2    604\n",
       "1    396\n",
       "Name: cluster, dtype: int64"
      ]
     },
     "execution_count": 30,
     "metadata": {},
     "output_type": "execute_result"
    }
   ],
   "source": [
    "final2 = km(2,test)\n",
    "final2.cluster.value_counts()"
   ]
  }
 ],
 "metadata": {
  "kernelspec": {
   "display_name": "Python 3",
   "language": "python",
   "name": "python3"
  },
  "language_info": {
   "codemirror_mode": {
    "name": "ipython",
    "version": 3
   },
   "file_extension": ".py",
   "mimetype": "text/x-python",
   "name": "python",
   "nbconvert_exporter": "python",
   "pygments_lexer": "ipython3",
   "version": "3.7.6"
  }
 },
 "nbformat": 4,
 "nbformat_minor": 2
}
